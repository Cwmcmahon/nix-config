{
 "cells": [
  {
   "cell_type": "code",
   "execution_count": 1,
   "id": "db39fb19-22ca-41cd-ae17-95458cb04cd6",
   "metadata": {},
   "outputs": [
    {
     "name": "stdout",
     "output_type": "stream",
     "text": [
      "3\n",
      "3.0\n",
      "3.0\n",
      "-4\n",
      "-4.0\n"
     ]
    }
   ],
   "source": [
    "print(10 // 3)  # Output: 3\n",
    "\n",
    "# Floating-point division\n",
    "print(10.0 // 3)  # Output: 3.0\n",
    "print(10 // 3.0)  # Output: 3.0\n",
    "\n",
    "# Negative numbers\n",
    "print(-10 // 3)  # Output: -4\n",
    "print(-10.0 // 3)  # Output: -4.0  "
   ]
  }
 ],
 "metadata": {
  "kernelspec": {
   "display_name": "Python 3 (ipykernel)",
   "language": "python",
   "name": "python3"
  },
  "language_info": {
   "codemirror_mode": {
    "name": "ipython",
    "version": 3
   },
   "file_extension": ".py",
   "mimetype": "text/x-python",
   "name": "python",
   "nbconvert_exporter": "python",
   "pygments_lexer": "ipython3",
   "version": "3.11.7"
  }
 },
 "nbformat": 4,
 "nbformat_minor": 5
}
